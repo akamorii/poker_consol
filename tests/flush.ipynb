{
 "cells": [
  {
   "cell_type": "code",
   "execution_count": 9,
   "metadata": {},
   "outputs": [],
   "source": [
    "import collections"
   ]
  },
  {
   "cell_type": "code",
   "execution_count": 11,
   "metadata": {},
   "outputs": [],
   "source": [
    "EXAMPLE_TABLE_2 = [['krest', '10'], ['krest', 'T'], ['krest', '6'], ['krest', '3'], ['buba', '8'], ['krest', 'Q'], ['pika', 'J']]"
   ]
  },
  {
   "cell_type": "code",
   "execution_count": 14,
   "metadata": {},
   "outputs": [],
   "source": [
    "def flush(hand_and_table, sf='flush'):\n",
    "    cards_count = 0\n",
    "    arr = []\n",
    "    for s in hand_and_table:\n",
    "        arr.append(s[0]) #добавление в массив мастей\n",
    "    count_elem = collections.Counter(arr)\n",
    "\n",
    "    for m, v in count_elem.items():\n",
    "        # print (v)\n",
    "        if count_elem[m] > 4:\n",
    "            if sf != flush:\n",
    "                arr.append(m)\n",
    "                # return arr\n",
    "            # print (count_elem)\n",
    "            return True\n",
    "    return False"
   ]
  },
  {
   "cell_type": "code",
   "execution_count": 15,
   "metadata": {},
   "outputs": [
    {
     "name": "stdout",
     "output_type": "stream",
     "text": [
      "True\n"
     ]
    }
   ],
   "source": [
    "print(flush(EXAMPLE_TABLE_2))"
   ]
  }
 ],
 "metadata": {
  "kernelspec": {
   "display_name": "Python 3",
   "language": "python",
   "name": "python3"
  },
  "language_info": {
   "codemirror_mode": {
    "name": "ipython",
    "version": 3
   },
   "file_extension": ".py",
   "mimetype": "text/x-python",
   "name": "python",
   "nbconvert_exporter": "python",
   "pygments_lexer": "ipython3",
   "version": "3.12.1"
  }
 },
 "nbformat": 4,
 "nbformat_minor": 2
}
