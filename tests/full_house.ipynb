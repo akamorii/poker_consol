{
 "cells": [
  {
   "cell_type": "code",
   "execution_count": 1,
   "metadata": {},
   "outputs": [],
   "source": [
    "import collections"
   ]
  },
  {
   "cell_type": "code",
   "execution_count": 2,
   "metadata": {},
   "outputs": [],
   "source": [
    "EXAMPLE_TABLE_2 = [['krest', '10'], ['pika', '10'], ['cherv', '10'], ['krest', '6'], ['buba', '8'], ['krest', '8'], ['pika', 'J']]"
   ]
  },
  {
   "cell_type": "code",
   "execution_count": 3,
   "metadata": {},
   "outputs": [],
   "source": [
    "def full_haus(hand_and_table):\n",
    "    cards_count = 0\n",
    "    arr = []\n",
    "    arr \n",
    "    for s in hand_and_table:\n",
    "        arr.append(s[1]) #добавление в массив значений\n",
    "    count_elem = collections.Counter(arr)\n",
    "    # print(count_elem)\n",
    "    # print(count_elem)\n",
    "    for i in count_elem:\n",
    "        # print(i)\n",
    "        if count_elem[str(i)] == 3 or (cards_count > 0 and count_elem[str(i)] > 2):\n",
    "            cards_count +=1\n",
    "            # print(count_elem)\n",
    "        if cards_count > 1:\n",
    "            return True\n",
    "    return False"
   ]
  },
  {
   "cell_type": "code",
   "execution_count": 4,
   "metadata": {},
   "outputs": [
    {
     "name": "stdout",
     "output_type": "stream",
     "text": [
      "False\n"
     ]
    }
   ],
   "source": [
    "print(full_haus(EXAMPLE_TABLE_2))"
   ]
  }
 ],
 "metadata": {
  "kernelspec": {
   "display_name": "Python 3",
   "language": "python",
   "name": "python3"
  },
  "language_info": {
   "codemirror_mode": {
    "name": "ipython",
    "version": 3
   },
   "file_extension": ".py",
   "mimetype": "text/x-python",
   "name": "python",
   "nbconvert_exporter": "python",
   "pygments_lexer": "ipython3",
   "version": "3.12.1"
  }
 },
 "nbformat": 4,
 "nbformat_minor": 2
}
