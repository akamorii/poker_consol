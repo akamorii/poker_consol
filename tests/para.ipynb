{
 "cells": [
  {
   "cell_type": "code",
   "execution_count": 5,
   "metadata": {},
   "outputs": [],
   "source": [
    "EXAMPLE_TABLE_2 = [['krest', '10'], ['pika', 'T'], ['cherv', '6'], ['krest', '6'], ['buba', '8'], ['krest', 'Q'], ['pika', 'J']]"
   ]
  },
  {
   "cell_type": "code",
   "execution_count": 1,
   "metadata": {},
   "outputs": [],
   "source": [
    "def para(hand_and_table): # передаем массив из руки и стола\n",
    "    arr = []\n",
    "    for s in hand_and_table:\n",
    "        arr.append(s[1]) #добавление в массив значений\n",
    "    for ss in range(0,len(arr)): \n",
    "        find_val = arr.pop(ss-ss) #т.к из массива удаляеться значение отнимаем кол во итераций\n",
    "        if find_val in arr:\n",
    "            return True\n",
    "    return False"
   ]
  },
  {
   "cell_type": "code",
   "execution_count": 6,
   "metadata": {},
   "outputs": [
    {
     "name": "stdout",
     "output_type": "stream",
     "text": [
      "True\n"
     ]
    }
   ],
   "source": [
    "print(para(EXAMPLE_TABLE_2))"
   ]
  }
 ],
 "metadata": {
  "kernelspec": {
   "display_name": "Python 3",
   "language": "python",
   "name": "python3"
  },
  "language_info": {
   "codemirror_mode": {
    "name": "ipython",
    "version": 3
   },
   "file_extension": ".py",
   "mimetype": "text/x-python",
   "name": "python",
   "nbconvert_exporter": "python",
   "pygments_lexer": "ipython3",
   "version": "3.12.1"
  }
 },
 "nbformat": 4,
 "nbformat_minor": 2
}
