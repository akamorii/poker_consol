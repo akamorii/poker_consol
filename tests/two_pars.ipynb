{
 "cells": [
  {
   "cell_type": "code",
   "execution_count": 5,
   "metadata": {},
   "outputs": [],
   "source": [
    "EXAMPLE_TABLE_2 = [['krest', '10'], ['pika', 'T'], ['cherv', '6'], ['krest', '6'], ['buba', '8'], ['krest', '8'], ['pika', 'J']]"
   ]
  },
  {
   "cell_type": "code",
   "execution_count": 2,
   "metadata": {},
   "outputs": [],
   "source": [
    "def two_pars (hand_and_table):\n",
    "    pars_count = 0\n",
    "    arr = []\n",
    "    for s in hand_and_table:\n",
    "        arr.append(s[1]) #добавление в массив значений\n",
    "    ss = 0\n",
    "    while ss < len(arr):\n",
    "        # arr_len = ss-ss\n",
    "        find_val = arr.pop(ss-ss) #т.к из массива удаляеться значение отнимаем кол во итераций\n",
    "        if find_val in arr: \n",
    "            arr.pop(arr.index(find_val))\n",
    "            pars_count+=1\n",
    "            ss+=1\n",
    "    # for ss in range(0,len(arr)): \n",
    "    #     arr_len = ss-ss-pars_count\n",
    "    #     find_val = arr.pop(arr_len) #т.к из массива удаляеться значение отнимаем кол во итераций\n",
    "    #     if find_val in arr: \n",
    "    #         arr.pop(arr.index(find_val))\n",
    "    #         pars_count+=1\n",
    "    if pars_count > 1:\n",
    "        return True\n",
    "    return False "
   ]
  },
  {
   "cell_type": "code",
   "execution_count": 6,
   "metadata": {},
   "outputs": [
    {
     "name": "stdout",
     "output_type": "stream",
     "text": [
      "True\n"
     ]
    }
   ],
   "source": [
    "print(two_pars(EXAMPLE_TABLE_2))"
   ]
  }
 ],
 "metadata": {
  "kernelspec": {
   "display_name": "Python 3",
   "language": "python",
   "name": "python3"
  },
  "language_info": {
   "codemirror_mode": {
    "name": "ipython",
    "version": 3
   },
   "file_extension": ".py",
   "mimetype": "text/x-python",
   "name": "python",
   "nbconvert_exporter": "python",
   "pygments_lexer": "ipython3",
   "version": "3.12.1"
  }
 },
 "nbformat": 4,
 "nbformat_minor": 2
}
