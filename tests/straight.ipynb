{
 "cells": [
  {
   "cell_type": "code",
   "execution_count": 1,
   "metadata": {},
   "outputs": [],
   "source": [
    "EXAMPLE_TABLE_2 = [['krest', '10'], ['pika', 'T'], ['cherv', '6'], ['krest', '6'], ['buba', '8'], ['krest', 'Q'], ['pika', 'J']]"
   ]
  },
  {
   "cell_type": "code",
   "execution_count": 3,
   "metadata": {},
   "outputs": [],
   "source": [
    "def straight(hand_and_table, sf='straight'):\n",
    "    \n",
    "    # pass\n",
    "    cards_count = 0\n",
    "    arr = []\n",
    "# \"\"\"найти числовое значение буквенных карт\"\"\"\n",
    "    def find_joker(card):\n",
    "        if card == 'J':\n",
    "            return '11'\n",
    "        elif card == 'Q':\n",
    "            return '12'\n",
    "        elif card == 'K':\n",
    "            return '13'\n",
    "        elif card == 'T':\n",
    "            return '14'\n",
    "        else:\n",
    "            return False\n",
    "\n",
    "    \n",
    "    \n",
    "    for s in hand_and_table:\n",
    "        arr.append(s[1]) #добавление в массив значений\n",
    "    for i in range(len(arr)):  #итерация по индексам длинны списка\n",
    "        # print(arr[i])\n",
    "        if find_joker(arr[i]):\n",
    "            arr[i] = find_joker(arr[i])\n",
    "        \"\"\"если найденно буквенное значение оно меняться на числовое\"\"\"\n",
    "    for j in range(0,len(arr)): #итерация по индексам массива\n",
    "        arr[j] = int(arr[j]) # перевод буквенных элементов в число\n",
    "    sort_arr = sorted(arr) # сортирует в алфавитном порядке или по возрастанию\n",
    "    \n",
    "    for k in range(len(sort_arr)):\n",
    "        \n",
    "        # \"\"\"итерация по индексам отсортированного массива\"\"\"\n",
    "        if k == len(arr)-1:\n",
    "            cards_count +=1\n",
    "            break\n",
    "        if (sort_arr[k]) == (sort_arr[k+1]-1):\n",
    "            cards_count +=1\n",
    "        else:\n",
    "            cards_count = 0\n",
    "    # print(sort_arr)\n",
    "    # print(f'card_count: {cards_count}')\n",
    "    if sf != \"straight\":\n",
    "        return sort_arr\n",
    "    if cards_count > 4:\n",
    "        # print(sort_arr)\n",
    "        # print(f'card_count: {cards_count}')\n",
    "        return True\n",
    "    return False\n",
    "    # return sort_arr"
   ]
  },
  {
   "cell_type": "code",
   "execution_count": null,
   "metadata": {},
   "outputs": [],
   "source": []
  }
 ],
 "metadata": {
  "kernelspec": {
   "display_name": "Python 3",
   "language": "python",
   "name": "python3"
  },
  "language_info": {
   "codemirror_mode": {
    "name": "ipython",
    "version": 3
   },
   "file_extension": ".py",
   "mimetype": "text/x-python",
   "name": "python",
   "nbconvert_exporter": "python",
   "pygments_lexer": "ipython3",
   "version": "3.12.1"
  }
 },
 "nbformat": 4,
 "nbformat_minor": 2
}
