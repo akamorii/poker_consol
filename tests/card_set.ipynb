{
 "cells": [
  {
   "cell_type": "code",
   "execution_count": 6,
   "metadata": {},
   "outputs": [],
   "source": [
    "import collections"
   ]
  },
  {
   "cell_type": "code",
   "execution_count": 8,
   "metadata": {},
   "outputs": [],
   "source": [
    "EXAMPLE_TABLE_2 = [['krest', '10'], ['pika', '6'], ['cherv', '6'], ['krest', '6'], ['buba', '8'], ['krest', 'Q'], ['pika', 'J']]"
   ]
  },
  {
   "cell_type": "code",
   "execution_count": 1,
   "metadata": {},
   "outputs": [],
   "source": [
    "def cards_set(hand_and_table, kareOrSet='set'): #эта функция используеться также для нахождения каре при передачи вторым параметром строки каре\n",
    "    cards_count = 0\n",
    "    arr = []\n",
    "    for s in hand_and_table:\n",
    "        arr.append(s[1]) #добавление в массив значений\n",
    "    ss = 0\n",
    "    finded_para = 0\n",
    "    count_elem = collections.Counter(arr)\n",
    "    # print(count_elem)\n",
    "    kareOrSet = 4 if kareOrSet == 'kare' else 3\n",
    "    for i in count_elem:\n",
    "        if count_elem[str(i)] == kareOrSet:\n",
    "            return True\n",
    "\n",
    "    return False"
   ]
  },
  {
   "cell_type": "code",
   "execution_count": 9,
   "metadata": {},
   "outputs": [
    {
     "name": "stdout",
     "output_type": "stream",
     "text": [
      "True\n"
     ]
    }
   ],
   "source": [
    "print(cards_set(EXAMPLE_TABLE_2))"
   ]
  }
 ],
 "metadata": {
  "kernelspec": {
   "display_name": "Python 3",
   "language": "python",
   "name": "python3"
  },
  "language_info": {
   "codemirror_mode": {
    "name": "ipython",
    "version": 3
   },
   "file_extension": ".py",
   "mimetype": "text/x-python",
   "name": "python",
   "nbconvert_exporter": "python",
   "pygments_lexer": "ipython3",
   "version": "3.12.1"
  }
 },
 "nbformat": 4,
 "nbformat_minor": 2
}
